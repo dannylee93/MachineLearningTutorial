{
 "cells": [
  {
   "cell_type": "code",
   "execution_count": 4,
   "metadata": {},
   "outputs": [
    {
     "name": "stdout",
     "output_type": "stream",
     "text": [
      "[('AdaBoostClassifier', <class 'sklearn.ensemble.weight_boosting.AdaBoostClassifier'>), ('BaggingClassifier', <class 'sklearn.ensemble.bagging.BaggingClassifier'>), ('BernoulliNB', <class 'sklearn.naive_bayes.BernoulliNB'>), ('CalibratedClassifierCV', <class 'sklearn.calibration.CalibratedClassifierCV'>), ('ComplementNB', <class 'sklearn.naive_bayes.ComplementNB'>), ('DecisionTreeClassifier', <class 'sklearn.tree.tree.DecisionTreeClassifier'>), ('ExtraTreeClassifier', <class 'sklearn.tree.tree.ExtraTreeClassifier'>), ('ExtraTreesClassifier', <class 'sklearn.ensemble.forest.ExtraTreesClassifier'>), ('GaussianNB', <class 'sklearn.naive_bayes.GaussianNB'>), ('GaussianProcessClassifier', <class 'sklearn.gaussian_process.gpc.GaussianProcessClassifier'>), ('GradientBoostingClassifier', <class 'sklearn.ensemble.gradient_boosting.GradientBoostingClassifier'>), ('KNeighborsClassifier', <class 'sklearn.neighbors.classification.KNeighborsClassifier'>), ('LabelPropagation', <class 'sklearn.semi_supervised.label_propagation.LabelPropagation'>), ('LabelSpreading', <class 'sklearn.semi_supervised.label_propagation.LabelSpreading'>), ('LinearDiscriminantAnalysis', <class 'sklearn.discriminant_analysis.LinearDiscriminantAnalysis'>), ('LinearSVC', <class 'sklearn.svm.classes.LinearSVC'>), ('LogisticRegression', <class 'sklearn.linear_model.logistic.LogisticRegression'>), ('LogisticRegressionCV', <class 'sklearn.linear_model.logistic.LogisticRegressionCV'>), ('MLPClassifier', <class 'sklearn.neural_network.multilayer_perceptron.MLPClassifier'>), ('MultinomialNB', <class 'sklearn.naive_bayes.MultinomialNB'>), ('NearestCentroid', <class 'sklearn.neighbors.nearest_centroid.NearestCentroid'>), ('NuSVC', <class 'sklearn.svm.classes.NuSVC'>), ('PassiveAggressiveClassifier', <class 'sklearn.linear_model.passive_aggressive.PassiveAggressiveClassifier'>), ('Perceptron', <class 'sklearn.linear_model.perceptron.Perceptron'>), ('QuadraticDiscriminantAnalysis', <class 'sklearn.discriminant_analysis.QuadraticDiscriminantAnalysis'>), ('RadiusNeighborsClassifier', <class 'sklearn.neighbors.classification.RadiusNeighborsClassifier'>), ('RandomForestClassifier', <class 'sklearn.ensemble.forest.RandomForestClassifier'>), ('RidgeClassifier', <class 'sklearn.linear_model.ridge.RidgeClassifier'>), ('RidgeClassifierCV', <class 'sklearn.linear_model.ridge.RidgeClassifierCV'>), ('SGDClassifier', <class 'sklearn.linear_model.stochastic_gradient.SGDClassifier'>), ('SVC', <class 'sklearn.svm.classes.SVC'>)]\n",
      "31\n",
      "<class 'list'>\n",
      "AdaBoostClassifier 의 정답률 : \n",
      "[0.9        0.93333333 1.         0.93333333 0.93333333]\n",
      "BaggingClassifier 의 정답률 : \n",
      "[0.96666667 0.96666667 0.93333333 0.9        0.96666667]\n",
      "BernoulliNB 의 정답률 : \n",
      "[0.3        0.23333333 0.26666667 0.23333333 0.3       ]\n",
      "CalibratedClassifierCV 의 정답률 : \n",
      "[0.96666667 0.83333333 0.93333333 0.96666667 0.96666667]\n",
      "ComplementNB 의 정답률 : \n",
      "[0.63333333 0.53333333 0.6        0.7        0.86666667]\n",
      "DecisionTreeClassifier 의 정답률 : \n",
      "[0.96666667 0.93333333 1.         0.93333333 1.        ]\n",
      "ExtraTreeClassifier 의 정답률 : \n",
      "[0.83333333 1.         1.         0.96666667 1.        ]\n",
      "ExtraTreesClassifier 의 정답률 : \n",
      "[0.93333333 1.         0.9        0.96666667 0.93333333]\n",
      "GaussianNB 의 정답률 : \n",
      "[1.         0.9        1.         0.93333333 0.93333333]\n",
      "GaussianProcessClassifier 의 정답률 : \n",
      "[0.96666667 0.93333333 0.96666667 1.         0.93333333]\n",
      "GradientBoostingClassifier 의 정답률 : \n",
      "[0.9        0.93333333 0.96666667 0.96666667 1.        ]\n",
      "KNeighborsClassifier 의 정답률 : \n",
      "[0.96666667 1.         1.         0.96666667 0.9       ]\n",
      "LabelPropagation 의 정답률 : \n",
      "[1.         0.93333333 0.96666667 0.93333333 0.96666667]\n",
      "LabelSpreading 의 정답률 : \n",
      "[1.         0.96666667 0.96666667 0.96666667 0.9       ]\n",
      "LinearDiscriminantAnalysis 의 정답률 : \n",
      "[1.  0.9 1.  1.  1. ]\n",
      "LinearSVC 의 정답률 : \n",
      "[1.         1.         0.93333333 0.9        0.96666667]\n",
      "LogisticRegression 의 정답률 : \n",
      "[1.         0.93333333 0.93333333 1.         0.9       ]\n",
      "LogisticRegressionCV 의 정답률 : \n",
      "[0.93333333 0.96666667 0.96666667 0.86666667 0.9       ]\n",
      "MLPClassifier 의 정답률 : \n",
      "[1.         0.86666667 0.96666667 0.96666667 1.        ]\n",
      "MultinomialNB 의 정답률 : \n",
      "[0.93333333 0.9        1.         0.86666667 0.7       ]\n",
      "NearestCentroid 의 정답률 : \n",
      "[0.86666667 0.9        0.93333333 0.93333333 0.9       ]\n",
      "NuSVC 의 정답률 : \n",
      "[0.96666667 1.         0.93333333 0.93333333 0.96666667]\n",
      "PassiveAggressiveClassifier 의 정답률 : \n",
      "[0.86666667 0.76666667 0.86666667 0.76666667 0.73333333]\n",
      "Perceptron 의 정답률 : \n",
      "[0.76666667 0.86666667 0.76666667 0.56666667 0.6       ]\n",
      "QuadraticDiscriminantAnalysis 의 정답률 : \n",
      "[1.  0.9 1.  1.  1. ]\n",
      "RadiusNeighborsClassifier 의 정답률 : \n",
      "[0.86666667 1.         0.96666667 0.93333333 0.96666667]\n",
      "RandomForestClassifier 의 정답률 : \n",
      "[0.96666667 0.86666667 0.96666667 0.93333333 0.96666667]\n",
      "RidgeClassifier 의 정답률 : \n",
      "[0.83333333 0.8        0.73333333 0.83333333 0.9       ]\n",
      "RidgeClassifierCV 의 정답률 : \n",
      "[0.83333333 0.73333333 0.86666667 0.9        0.8       ]\n",
      "SGDClassifier 의 정답률 : \n",
      "[0.66666667 0.56666667 0.43333333 0.96666667 0.56666667]\n",
      "SVC 의 정답률 : \n",
      "[0.96666667 0.96666667 0.96666667 1.         0.93333333]\n"
     ]
    }
   ],
   "source": [
    "import pandas as pd\n",
    "from sklearn.metrics import accuracy_score\n",
    "from sklearn.utils.testing import all_estimators # asd\n",
    "from sklearn.model_selection import KFold, cross_val_score\n",
    "# scikit learn 0.20.3에서 31개\n",
    "# scikit learn 0.21.3에서 40개중 4개만 동\n",
    "\n",
    "import warnings  # asd\n",
    "warnings.filterwarnings('ignore')\n",
    "\n",
    "# 붓꽃 데이터 불러오기\n",
    "dataset = pd.read_csv('./csv/iris2.csv', encoding='utf-8')\n",
    "\n",
    "# 인풋과 레이블로 나누기\n",
    "x = dataset.loc[ : , ['SepalLength', 'SepalWidth', 'PetalLength', 'PetalWidth']]\n",
    "y = dataset.loc[ : , 'Name']\n",
    "\n",
    "# classifier 알고리즘 모두 추출하기\n",
    "warnings.filterwarnings('ignore')\n",
    "allAlgorithms = all_estimators(type_filter='classifier')\n",
    "\n",
    "kfold_CV = KFold(n_splits=5, shuffle=True)\n",
    "\n",
    "print(allAlgorithms)\n",
    "print(len(allAlgorithms))\n",
    "print(type(allAlgorithms))\n",
    "\n",
    "for(name, algorithm) in allAlgorithms:\n",
    "    # 각 알고리즘 객체 생성 하기\n",
    "    clf = algorithm()\n",
    "    \n",
    "    if hasattr(clf, 'score'):     # score가 있는 모델만 사용하겠다\n",
    "        scores = cross_val_score(clf, x, y, cv=kfold_CV)\n",
    "        print(name, '의 정답률 : ')\n",
    "        print(scores)"
   ]
  },
  {
   "cell_type": "code",
   "execution_count": 2,
   "metadata": {},
   "outputs": [
    {
     "data": {
      "text/plain": [
       "'0.20.3'"
      ]
     },
     "execution_count": 2,
     "metadata": {},
     "output_type": "execute_result"
    }
   ],
   "source": [
    "import sklearn\n",
    "sklearn.__version__"
   ]
  },
  {
   "cell_type": "code",
   "execution_count": null,
   "metadata": {},
   "outputs": [],
   "source": []
  }
 ],
 "metadata": {
  "kernelspec": {
   "display_name": "Python 3",
   "language": "python",
   "name": "python3"
  },
  "language_info": {
   "codemirror_mode": {
    "name": "ipython",
    "version": 3
   },
   "file_extension": ".py",
   "mimetype": "text/x-python",
   "name": "python",
   "nbconvert_exporter": "python",
   "pygments_lexer": "ipython3",
   "version": "3.7.3"
  }
 },
 "nbformat": 4,
 "nbformat_minor": 4
}
