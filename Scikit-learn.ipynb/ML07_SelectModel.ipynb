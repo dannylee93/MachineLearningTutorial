{
 "cells": [
  {
   "cell_type": "code",
   "execution_count": 6,
   "metadata": {},
   "outputs": [
    {
     "name": "stdout",
     "output_type": "stream",
     "text": [
      "[('AdaBoostClassifier', <class 'sklearn.ensemble.weight_boosting.AdaBoostClassifier'>), ('BaggingClassifier', <class 'sklearn.ensemble.bagging.BaggingClassifier'>), ('BernoulliNB', <class 'sklearn.naive_bayes.BernoulliNB'>), ('CalibratedClassifierCV', <class 'sklearn.calibration.CalibratedClassifierCV'>), ('ComplementNB', <class 'sklearn.naive_bayes.ComplementNB'>), ('DecisionTreeClassifier', <class 'sklearn.tree.tree.DecisionTreeClassifier'>), ('ExtraTreeClassifier', <class 'sklearn.tree.tree.ExtraTreeClassifier'>), ('ExtraTreesClassifier', <class 'sklearn.ensemble.forest.ExtraTreesClassifier'>), ('GaussianNB', <class 'sklearn.naive_bayes.GaussianNB'>), ('GaussianProcessClassifier', <class 'sklearn.gaussian_process.gpc.GaussianProcessClassifier'>), ('GradientBoostingClassifier', <class 'sklearn.ensemble.gradient_boosting.GradientBoostingClassifier'>), ('KNeighborsClassifier', <class 'sklearn.neighbors.classification.KNeighborsClassifier'>), ('LabelPropagation', <class 'sklearn.semi_supervised.label_propagation.LabelPropagation'>), ('LabelSpreading', <class 'sklearn.semi_supervised.label_propagation.LabelSpreading'>), ('LinearDiscriminantAnalysis', <class 'sklearn.discriminant_analysis.LinearDiscriminantAnalysis'>), ('LinearSVC', <class 'sklearn.svm.classes.LinearSVC'>), ('LogisticRegression', <class 'sklearn.linear_model.logistic.LogisticRegression'>), ('LogisticRegressionCV', <class 'sklearn.linear_model.logistic.LogisticRegressionCV'>), ('MLPClassifier', <class 'sklearn.neural_network.multilayer_perceptron.MLPClassifier'>), ('MultinomialNB', <class 'sklearn.naive_bayes.MultinomialNB'>), ('NearestCentroid', <class 'sklearn.neighbors.nearest_centroid.NearestCentroid'>), ('NuSVC', <class 'sklearn.svm.classes.NuSVC'>), ('PassiveAggressiveClassifier', <class 'sklearn.linear_model.passive_aggressive.PassiveAggressiveClassifier'>), ('Perceptron', <class 'sklearn.linear_model.perceptron.Perceptron'>), ('QuadraticDiscriminantAnalysis', <class 'sklearn.discriminant_analysis.QuadraticDiscriminantAnalysis'>), ('RadiusNeighborsClassifier', <class 'sklearn.neighbors.classification.RadiusNeighborsClassifier'>), ('RandomForestClassifier', <class 'sklearn.ensemble.forest.RandomForestClassifier'>), ('RidgeClassifier', <class 'sklearn.linear_model.ridge.RidgeClassifier'>), ('RidgeClassifierCV', <class 'sklearn.linear_model.ridge.RidgeClassifierCV'>), ('SGDClassifier', <class 'sklearn.linear_model.stochastic_gradient.SGDClassifier'>), ('SVC', <class 'sklearn.svm.classes.SVC'>)]\n",
      "31\n",
      "<class 'list'>\n",
      "AdaBoostClassifier 의 정답률 :  0.9111111111111111\n",
      "BaggingClassifier 의 정답률 :  0.9777777777777777\n",
      "BernoulliNB 의 정답률 :  0.24444444444444444\n",
      "CalibratedClassifierCV 의 정답률 :  0.8666666666666667\n",
      "ComplementNB 의 정답률 :  0.6\n",
      "DecisionTreeClassifier 의 정답률 :  0.9777777777777777\n",
      "ExtraTreeClassifier 의 정답률 :  0.9777777777777777\n",
      "ExtraTreesClassifier 의 정답률 :  0.9555555555555556\n",
      "GaussianNB 의 정답률 :  1.0\n",
      "GaussianProcessClassifier 의 정답률 :  0.9777777777777777\n",
      "GradientBoostingClassifier 의 정답률 :  0.9777777777777777\n",
      "KNeighborsClassifier 의 정답률 :  0.9777777777777777\n",
      "LabelPropagation 의 정답률 :  0.9777777777777777\n",
      "LabelSpreading 의 정답률 :  0.9777777777777777\n",
      "LinearDiscriminantAnalysis 의 정답률 :  0.9777777777777777\n",
      "LinearSVC 의 정답률 :  0.9333333333333333\n",
      "LogisticRegression 의 정답률 :  0.8888888888888888\n",
      "LogisticRegressionCV 의 정답률 :  0.9777777777777777\n",
      "MLPClassifier 의 정답률 :  0.9555555555555556\n",
      "MultinomialNB 의 정답률 :  0.6\n",
      "NearestCentroid 의 정답률 :  0.9111111111111111\n",
      "NuSVC 의 정답률 :  0.9777777777777777\n",
      "PassiveAggressiveClassifier 의 정답률 :  0.7555555555555555\n",
      "Perceptron 의 정답률 :  0.6\n",
      "QuadraticDiscriminantAnalysis 의 정답률 :  0.9777777777777777\n",
      "RadiusNeighborsClassifier 의 정답률 :  0.9555555555555556\n",
      "RandomForestClassifier 의 정답률 :  0.9777777777777777\n",
      "RidgeClassifier 의 정답률 :  0.7555555555555555\n",
      "RidgeClassifierCV 의 정답률 :  0.7555555555555555\n",
      "SGDClassifier 의 정답률 :  0.9555555555555556\n",
      "SVC 의 정답률 :  0.9777777777777777\n"
     ]
    }
   ],
   "source": [
    "import pandas as pd\n",
    "from sklearn.metrics import accuracy_score\n",
    "from sklearn.utils import testing # asd\n",
    "# scikit learn 0.20.3에서 31개\n",
    "# scikit learn 0.21.3에서 40개중 4개만 동\n",
    "\n",
    "import warnings  # asd\n",
    "warnings.filterwarnings('ignore')\n",
    "\n",
    "# 붓꽃 데이터 불러오기\n",
    "dataset = pd.read_csv('./csv/iris2.csv', encoding='utf-8')\n",
    "\n",
    "# 인풋과 레이블로 나누기\n",
    "x = dataset.loc[ : , ['SepalLength', 'SepalWidth', 'PetalLength', 'PetalWidth']]\n",
    "y = dataset.loc[ : , 'Name']\n",
    "\n",
    "y.head()\n",
    "\n",
    "# 학습 전용과 테스트 전용 분리하기\n",
    "warnings.filterwarnings('ignore')\n",
    "from sklearn.model_selection import train_test_split\n",
    "\n",
    "x_train, x_test, y_train, y_test = train_test_split(x,y,\n",
    "                                                    test_size=0.3, \n",
    "                                                    random_state=0, \n",
    "                                                    shuffle = True)\n",
    "\n",
    "# classifier 알고리즘 모두 추출하기\n",
    "warnings.filterwarnings('ignore')\n",
    "allAlgorithms = testing.all_estimators(type_filter='classifier')\n",
    "\n",
    "print(allAlgorithms)\n",
    "print(len(allAlgorithms))\n",
    "print(type(allAlgorithms))\n",
    "\n",
    "count = 0\n",
    "for(Name, algorithm) in allAlgorithms:\n",
    "    # 각 알고리즘 객체 생성 하기\n",
    "    count += 1\n",
    "    clf = algorithm()\n",
    "    \n",
    "    # 학습하고 평가하기\n",
    "    clf.fit(x_train, y_train)\n",
    "    y_predict = clf.predict(x_test)\n",
    "    print(Name, \"의 정답률 : \", accuracy_score(y_test, y_predict))"
   ]
  },
  {
   "cell_type": "code",
   "execution_count": null,
   "metadata": {},
   "outputs": [],
   "source": []
  },
  {
   "cell_type": "code",
   "execution_count": 4,
   "metadata": {},
   "outputs": [
    {
     "data": {
      "text/plain": [
       "'0.20.3'"
      ]
     },
     "execution_count": 4,
     "metadata": {},
     "output_type": "execute_result"
    }
   ],
   "source": [
    "import sklearn\n",
    "sklearn.__version__"
   ]
  },
  {
   "cell_type": "code",
   "execution_count": null,
   "metadata": {},
   "outputs": [],
   "source": []
  }
 ],
 "metadata": {
  "kernelspec": {
   "display_name": "Python 3",
   "language": "python",
   "name": "python3"
  },
  "language_info": {
   "codemirror_mode": {
    "name": "ipython",
    "version": 3
   },
   "file_extension": ".py",
   "mimetype": "text/x-python",
   "name": "python",
   "nbconvert_exporter": "python",
   "pygments_lexer": "ipython3",
   "version": "3.7.3"
  }
 },
 "nbformat": 4,
 "nbformat_minor": 4
}
