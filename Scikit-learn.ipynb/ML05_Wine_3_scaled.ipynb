{
 "cells": [
  {
   "cell_type": "code",
   "execution_count": 1,
   "metadata": {},
   "outputs": [
    {
     "name": "stdout",
     "output_type": "stream",
     "text": [
      "quality\n",
      "3      20\n",
      "4     163\n",
      "5    1457\n",
      "6    2198\n",
      "7     880\n",
      "8     175\n",
      "9       5\n",
      "Name: quality, dtype: int64\n"
     ]
    }
   ],
   "source": [
    "import matplotlib.pyplot as plt\n",
    "import pandas as pd\n",
    "\n",
    "# 데이터 불러오기\n",
    "wine_data = pd.read_csv('./csv/winequality-white.csv', sep=';', encoding='utf-8')\n",
    "\n",
    "# 품질 데이터별 그룹 나누고 수 세기\n",
    "count_data = wine_data.groupby('quality')['quality'].count()\n",
    "print(count_data)"
   ]
  },
  {
   "cell_type": "code",
   "execution_count": 2,
   "metadata": {},
   "outputs": [
    {
     "data": {
      "image/png": "[encoded data removed]",
      "text/plain": [
       "<Figure size 432x288 with 1 Axes>"
      ]
     },
     "metadata": {
      "needs_background": "light"
     },
     "output_type": "display_data"
    }
   ],
   "source": [
    "count_data.plot()\n",
    "plt.savefig('wine_count_data.png')\n",
    "plt.show() # 데이터 쏠림현상(skewed)이 많은 것을 알 수 있다.(4.xx면 5로 수렴할 것이다.)"
   ]
  },
  {
   "cell_type": "markdown",
   "metadata": {},
   "source": [
    "<br>\n",
    "\n",
    "### 쏠림현상 어떻게 해결할까\n",
    "- 위에 그래프로 데이터 쏠림현상(skewed)이 많은 것을 알 수 있다.(4.xx면 5로 수렴할 것이다.)\n",
    "- x값을 바꾸는건 데이터 조작 / 원하는 y값을 바꿔 모양을 조금 바꾸는건 가능\n",
    "- 예를 들어, 3~9까지 있는 레이블의 범위를 [나쁨 보통 좋음]의 세가지 분류로 나눌 수 있다."
   ]
  },
  {
   "cell_type": "code",
   "execution_count": 6,
   "metadata": {},
   "outputs": [
    {
     "name": "stdout",
     "output_type": "stream",
     "text": [
      "Score :  0.9380952380952381\n",
      "정답률 :  0.9380952380952381\n"
     ]
    }
   ],
   "source": [
    "import matplotlib.pyplot as plt\n",
    "import pandas as pd\n",
    "\n",
    "# 데이터 불러오기\n",
    "wine_data = pd.read_csv('./csv/winequality-white.csv', sep=';', encoding='utf-8')\n",
    "\n",
    "# 데이터를 레이블과 데이터로 분리하기\n",
    "y = wine_data[\"quality\"]\n",
    "x = wine_data.drop('quality', axis=1)\n",
    "\n",
    "newlist = []\n",
    "for v in list(y):\n",
    "    if v <= 4:\n",
    "        newlist += [0]\n",
    "    elif v <= 7:\n",
    "        newlist += [1]\n",
    "    else:\n",
    "        newlist += [2]\n",
    "        \n",
    "y = newlist\n",
    "\n",
    "from sklearn.model_selection import train_test_split\n",
    "\n",
    "x_train, x_test, y_train, y_test = train_test_split(x,y,\n",
    "                                                    test_size=0.3, \n",
    "                                                    random_state=0, \n",
    "                                                    shuffle = True)\n",
    "\n",
    "\n",
    "from sklearn.ensemble import RandomForestClassifier # 랜덤포레스트 모델 중 분류모델\n",
    "from sklearn.metrics import accuracy_score\n",
    "\n",
    "# 모델링(랜덤포레스트)\n",
    "model = RandomForestClassifier()\n",
    "\n",
    "# 훈련\n",
    "model.fit(x_train, y_train)\n",
    "\n",
    "# 평가예측\n",
    "score = model.score(x_test, y_test)\n",
    "print(\"Score : \",score)\n",
    "\n",
    "y_predict = model.predict(x_test)\n",
    "print(\"정답률 : \", accuracy_score(y_test, y_predict))"
   ]
  },
  {
   "cell_type": "code",
   "execution_count": null,
   "metadata": {},
   "outputs": [],
   "source": []
  }
 ],
 "metadata": {
  "kernelspec": {
   "display_name": "Python 3",
   "language": "python",
   "name": "python3"
  },
  "language_info": {
   "codemirror_mode": {
    "name": "ipython",
    "version": 3
   },
   "file_extension": ".py",
   "mimetype": "text/x-python",
   "name": "python",
   "nbconvert_exporter": "python",
   "pygments_lexer": "ipython3",
   "version": "3.7.3"
  }
 },
 "nbformat": 4,
 "nbformat_minor": 4
}
