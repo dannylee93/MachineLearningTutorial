{
 "cells": [
  {
   "cell_type": "code",
   "execution_count": 6,
   "metadata": {},
   "outputs": [
    {
     "name": "stdout",
     "output_type": "stream",
     "text": [
      "테스트 점수 :  0.9555555555555556\n"
     ]
    }
   ],
   "source": [
    "import pandas as pd\n",
    "from sklearn.svm import SVC\n",
    "from sklearn.metrics import accuracy_score\n",
    "\n",
    "\n",
    "import warnings\n",
    "warnings.filterwarnings('ignore')\n",
    "\n",
    "# 붓꽃 데이터 불러오기\n",
    "dataset = pd.read_csv('./csv/iris2.csv', encoding='utf-8')\n",
    "\n",
    "# 인풋과 레이블로 나누기\n",
    "x = dataset.loc[ : , ['SepalLength', 'SepalWidth', 'PetalLength', 'PetalWidth']]\n",
    "y = dataset.loc[ : , 'Name']\n",
    "\n",
    "from sklearn.model_selection import train_test_split, KFold, cross_val_score\n",
    "\n",
    "# size 나눌 때 합이 1.0이 아니어도 train에 맞춰짐\n",
    "x_train, x_test, y_train, y_test = train_test_split(x,y,\n",
    "                                                    test_size=0.3, \n",
    "                                                    random_state=0, \n",
    "                                                    shuffle = True)\n",
    "\n",
    "from sklearn.pipeline import Pipeline #클래스 임포트\n",
    "from sklearn.preprocessing import MinMaxScaler # 스케일링 \n",
    "\n",
    "# 이제까지 모델링과 전처리 따로 했는데 파이프라인으로 한번에 해준다.\n",
    "# 코드 해석: 이름을 '__' 라고 지정하고, __ 모델을 사용한다.\n",
    "pipe_model = Pipeline([('scalar', MinMaxScaler()), ('svm', SVC())])\n",
    "\n",
    "pipe_model.fit(x_train,y_train)\n",
    "\n",
    "print(\"테스트 점수 : \", pipe_model.score(x_test, y_test))"
   ]
  },
  {
   "cell_type": "code",
   "execution_count": 4,
   "metadata": {},
   "outputs": [
    {
     "name": "stdout",
     "output_type": "stream",
     "text": [
      "(105, 4)\n",
      "(45, 4)\n",
      "(105,)\n",
      "(45,)\n"
     ]
    }
   ],
   "source": [
    "print(x_train.shape)\n",
    "print(x_test.shape)\n",
    "print(y_train.shape)\n",
    "print(y_test.shape)"
   ]
  },
  {
   "cell_type": "code",
   "execution_count": null,
   "metadata": {},
   "outputs": [],
   "source": []
  }
 ],
 "metadata": {
  "kernelspec": {
   "display_name": "Python 3",
   "language": "python",
   "name": "python3"
  },
  "language_info": {
   "codemirror_mode": {
    "name": "ipython",
    "version": 3
   },
   "file_extension": ".py",
   "mimetype": "text/x-python",
   "name": "python",
   "nbconvert_exporter": "python",
   "pygments_lexer": "ipython3",
   "version": "3.7.3"
  }
 },
 "nbformat": 4,
 "nbformat_minor": 2
}
