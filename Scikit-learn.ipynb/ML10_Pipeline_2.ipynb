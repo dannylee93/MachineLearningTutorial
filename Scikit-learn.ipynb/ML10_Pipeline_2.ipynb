{
 "cells": [
  {
   "cell_type": "markdown",
   "metadata": {},
   "source": [
    "<br>\n",
    "\n",
    "## Gridsearch & Pipeline 결합"
   ]
  },
  {
   "cell_type": "code",
   "execution_count": 12,
   "metadata": {},
   "outputs": [
    {
     "data": {
      "text/plain": [
       "(150, 4)"
      ]
     },
     "execution_count": 12,
     "metadata": {},
     "output_type": "execute_result"
    }
   ],
   "source": [
    "import pandas as pd\n",
    "from sklearn.svm import SVC\n",
    "from sklearn.metrics import accuracy_score\n",
    "\n",
    "\n",
    "import warnings\n",
    "warnings.filterwarnings('ignore')\n",
    "\n",
    "# 붓꽃 데이터 불러오기\n",
    "dataset = pd.read_csv('./csv/iris2.csv', encoding='utf-8')\n",
    "\n",
    "# 인풋과 레이블로 나누기\n",
    "x = dataset.loc[ : , ['SepalLength', 'SepalWidth', 'PetalLength', 'PetalWidth']]\n",
    "y = dataset.loc[ : , 'Name']\n",
    "x.shape\n",
    "from sklearn.model_selection import train_test_split, GridSearchCV, KFold, cross_val_score\n",
    "\n",
    "# size 나눌 때 합이 1.0이 아니어도 train에 맞춰짐\n",
    "x_train, x_test, y_train, y_test = train_test_split(x,y,\n",
    "                                                    test_size=0.3, \n",
    "                                                    random_state=0, \n",
    "                                                    shuffle = True)\n",
    "# 그리드 서치에서 사용할 매개변수\n",
    "parameters = [\n",
    "    {\"svc__C\" : [1,10,100,1000], \"svc__kernel\":[\"linear\"]},\n",
    "    {\"svc__C\" : [1,10,100,1000], \"svc__kernel\":[\"rbf\"], \"svc__gamma\":[0.001, 0.0001]},\n",
    "    {\"svc__C\" : [1,10,100,1000], \"svc__kernel\":[\"sigmoid\"], \"svc__gamma\":[0.001, 0.0001]}]\n",
    "\n",
    "kfold_CV = KFold(n_splits=5, shuffle=True)\n",
    "\n",
    "from sklearn.pipeline import Pipeline #클래스 임포트\n",
    "from sklearn.preprocessing import MinMaxScaler # 스케일링 \n",
    "\n",
    "# 그리드 서치\n",
    "pipe_model = Pipeline([('scalar', MinMaxScaler()), ('svm', SVC())])\n",
    "model = GridSearchCV(pipe_model, parameters, cv=kfold_CV)\n",
    "\n",
    "model.fit(x_train,y_train)\n",
    "\n",
    "print(\"테스트 점수 : \", model.score(x_test, y_test))"
   ]
  },
  {
   "cell_type": "code",
   "execution_count": 4,
   "metadata": {},
   "outputs": [
    {
     "ename": "AttributeError",
     "evalue": "'GridSearchCV' object has no attribute 'best_estimator_'",
     "output_type": "error",
     "traceback": [
      "\u001b[1;31m---------------------------------------------------------------------------\u001b[0m",
      "\u001b[1;31mAttributeError\u001b[0m                            Traceback (most recent call last)",
      "\u001b[1;32m<ipython-input-4-de8204eb3cb6>\u001b[0m in \u001b[0;36m<module>\u001b[1;34m\u001b[0m\n\u001b[0;32m      2\u001b[0m \u001b[1;33m\u001b[0m\u001b[0m\n\u001b[0;32m      3\u001b[0m \u001b[1;31m# model.fit(x_train, y_train)\u001b[0m\u001b[1;33m\u001b[0m\u001b[1;33m\u001b[0m\u001b[1;33m\u001b[0m\u001b[0m\n\u001b[1;32m----> 4\u001b[1;33m \u001b[0mprint\u001b[0m\u001b[1;33m(\u001b[0m\u001b[1;34m\"최적의 매개 변수 : \"\u001b[0m\u001b[1;33m,\u001b[0m \u001b[0mmodel\u001b[0m\u001b[1;33m.\u001b[0m\u001b[0mbest_estimator_\u001b[0m\u001b[1;33m)\u001b[0m\u001b[1;33m\u001b[0m\u001b[1;33m\u001b[0m\u001b[0m\n\u001b[0m\u001b[0;32m      5\u001b[0m \u001b[1;33m\u001b[0m\u001b[0m\n\u001b[0;32m      6\u001b[0m \u001b[1;31m# 최적의 매개변수 평가하기\u001b[0m\u001b[1;33m\u001b[0m\u001b[1;33m\u001b[0m\u001b[1;33m\u001b[0m\u001b[0m\n",
      "\u001b[1;31mAttributeError\u001b[0m: 'GridSearchCV' object has no attribute 'best_estimator_'"
     ]
    }
   ],
   "source": [
    "\n",
    "\n",
    "# model.fit(x_train, y_train)\n",
    "print(\"최적의 매개 변수 : \", model.best_estimator_)\n",
    "\n",
    "# 최적의 매개변수 평가하기\n",
    "y_predict = model.predict(x_test)\n",
    "print(\"최종 정답률 : \", accuracy_score(y_test, y_predict))"
   ]
  },
  {
   "cell_type": "code",
   "execution_count": null,
   "metadata": {},
   "outputs": [],
   "source": []
  }
 ],
 "metadata": {
  "kernelspec": {
   "display_name": "Python 3",
   "language": "python",
   "name": "python3"
  },
  "language_info": {
   "codemirror_mode": {
    "name": "ipython",
    "version": 3
   },
   "file_extension": ".py",
   "mimetype": "text/x-python",
   "name": "python",
   "nbconvert_exporter": "python",
   "pygments_lexer": "ipython3",
   "version": "3.7.3"
  }
 },
 "nbformat": 4,
 "nbformat_minor": 2
}
