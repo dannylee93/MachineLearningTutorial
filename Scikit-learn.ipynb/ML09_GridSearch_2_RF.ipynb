{
 "cells": [
  {
   "cell_type": "code",
   "execution_count": 1,
   "metadata": {},
   "outputs": [
    {
     "name": "stdout",
     "output_type": "stream",
     "text": [
      "최적의 매개 변수 :  RandomForestClassifier(bootstrap=True, class_weight=None, criterion='gini',\n",
      "            max_depth=3, max_features='auto', max_leaf_nodes=None,\n",
      "            min_impurity_decrease=0.0, min_impurity_split=None,\n",
      "            min_samples_leaf=1, min_samples_split=2,\n",
      "            min_weight_fraction_leaf=0.0, n_estimators=10, n_jobs=None,\n",
      "            oob_score=False, random_state=None, verbose=0,\n",
      "            warm_start=False)\n",
      "최종 정답률 :  0.9777777777777777\n"
     ]
    }
   ],
   "source": [
    "import pandas as pd\n",
    "from sklearn.ensemble import RandomForestClassifier\n",
    "from sklearn.metrics import accuracy_score\n",
    "\n",
    "\n",
    "import warnings  # asd\n",
    "warnings.filterwarnings('ignore')\n",
    "\n",
    "# 붓꽃 데이터 불러오기\n",
    "dataset = pd.read_csv('./csv/iris2.csv', encoding='utf-8')\n",
    "\n",
    "\n",
    "# 인풋과 레이블로 나누기\n",
    "x = dataset.loc[ : , ['SepalLength', 'SepalWidth', 'PetalLength', 'PetalWidth']]\n",
    "y = dataset.loc[ : , 'Name']\n",
    "\n",
    "from sklearn.model_selection import train_test_split, GridSearchCV, KFold, cross_val_score\n",
    "\n",
    "x_train, x_test, y_train, y_test = train_test_split(x,y,\n",
    "                                                    test_size=0.3, \n",
    "                                                    random_state=0, \n",
    "                                                    shuffle = True)\n",
    "\n",
    "\n",
    "# 그리드 서치에서 사용할 매개변수\n",
    "parameters = [\n",
    "    {\"n_estimators\" : [1,10,100,1000]},\n",
    "    {\"n_estimators\" : [1,10,100,1000], \"criterion\":[\"gini\"], \"max_depth\":[1,2,3,4]},\n",
    "    {\"n_estimators\" : [1,10,100,1000], \"max_depth\":[1,2,3,4]}]\n",
    "\n",
    "# 그리드 서치\n",
    "kfold_CV = KFold(n_splits=5, shuffle=True)\n",
    "model = GridSearchCV(RandomForestClassifier(), parameters, cv=kfold_CV)\n",
    "model.fit(x_train, y_train)\n",
    "print(\"최적의 매개 변수 : \", model.best_estimator_)\n",
    "\n",
    "# 최적의 매개변수 평가하기\n",
    "y_predict = model.predict(x_test)\n",
    "print(\"최종 정답률 : \", accuracy_score(y_test, y_predict))"
   ]
  },
  {
   "cell_type": "markdown",
   "metadata": {},
   "source": [
    "ㅁㄴㅇ\n"
   ]
  },
  {
   "cell_type": "code",
   "execution_count": 2,
   "metadata": {},
   "outputs": [
    {
     "name": "stdout",
     "output_type": "stream",
     "text": [
      "최적의 매개 변수 :  RandomForestClassifier(bootstrap=True, class_weight=None, criterion='gini',\n",
      "            max_depth=4, max_features='auto', max_leaf_nodes=None,\n",
      "            min_impurity_decrease=0.0, min_impurity_split=None,\n",
      "            min_samples_leaf=1, min_samples_split=2,\n",
      "            min_weight_fraction_leaf=0.0, n_estimators=1000, n_jobs=None,\n",
      "            oob_score=False, random_state=None, verbose=0,\n",
      "            warm_start=False)\n",
      "최종 정답률 :  0.9777777777777777\n"
     ]
    }
   ],
   "source": [
    "import pandas as pd\n",
    "from sklearn.ensemble import RandomForestClassifier\n",
    "from sklearn.metrics import accuracy_score\n",
    "\n",
    "\n",
    "import warnings \n",
    "warnings.filterwarnings('ignore')\n",
    "\n",
    "# 붓꽃 데이터 불러오기\n",
    "dataset = pd.read_csv('./csv/iris2.csv', encoding='utf-8')\n",
    "\n",
    "\n",
    "# 인풋과 레이블로 나누기\n",
    "x = dataset.loc[ : , ['SepalLength', 'SepalWidth', 'PetalLength', 'PetalWidth']]\n",
    "y = dataset.loc[ : , 'Name']\n",
    "\n",
    "from sklearn.model_selection import train_test_split, RandomizedSearchCV, KFold, cross_val_score\n",
    "\n",
    "x_train, x_test, y_train, y_test = train_test_split(x,y,\n",
    "                                                    test_size=0.3, \n",
    "                                                    random_state=0, \n",
    "                                                    shuffle = True)\n",
    "\n",
    "\n",
    "# 그리드 서치에서 사용할 매개변수\n",
    "parameters = {\"n_estimators\" : (1,1000),\"criterion\":[\"gini\"], \"max_depth\":(1,4)}\n",
    "\n",
    "# 그리드 서치\n",
    "kfold_CV = KFold(n_splits=5, shuffle=True)\n",
    "model = RandomizedSearchCV(RandomForestClassifier(), parameters, cv=kfold_CV) \n",
    "model.fit(x_train, y_train)\n",
    "print(\"최적의 매개 변수 : \", model.best_estimator_)\n",
    "\n",
    "# 최적의 매개변수 평가하기\n",
    "y_predict = model.predict(x_test)\n",
    "print(\"최종 정답률 : \", accuracy_score(y_test, y_predict))"
   ]
  },
  {
   "cell_type": "code",
   "execution_count": null,
   "metadata": {},
   "outputs": [],
   "source": []
  }
 ],
 "metadata": {
  "kernelspec": {
   "display_name": "Python 3",
   "language": "python",
   "name": "python3"
  },
  "language_info": {
   "codemirror_mode": {
    "name": "ipython",
    "version": 3
   },
   "file_extension": ".py",
   "mimetype": "text/x-python",
   "name": "python",
   "nbconvert_exporter": "python",
   "pygments_lexer": "ipython3",
   "version": "3.7.3"
  }
 },
 "nbformat": 4,
 "nbformat_minor": 4
}
