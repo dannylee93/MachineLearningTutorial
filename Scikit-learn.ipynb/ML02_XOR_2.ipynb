{
 "cells": [
  {
   "cell_type": "code",
   "execution_count": 1,
   "metadata": {},
   "outputs": [
    {
     "name": "stdout",
     "output_type": "stream",
     "text": [
      "[[0, 0], [1, 0], [0, 1], [1, 1]] 의 예측결과 :  [0 1 1 0]\n",
      "acc :  1.0\n"
     ]
    }
   ],
   "source": [
    "from sklearn.svm import LinearSVC\n",
    "from sklearn.neighbors import KNeighborsClassifier \n",
    "from sklearn.metrics import accuracy_score\n",
    "\n",
    "# 1. 데이터(XOR) / Y데이터 변경\n",
    "x_train = [[0,0], [1,0], [0,1], [1,1]]\n",
    "y_train = [0, 1, 1, 0]\n",
    "\n",
    "# 2. 모델링\n",
    "model = KNeighborsClassifier(n_neighbors=1)\n",
    "# n_neighbors는 가장 가까운 이웃을 몇개를 고를지에 대한 parameter며\n",
    "# n_jobs는 사용할 코어의 갯수 입니다. -1이면 모든 코어를 사용합니다.\n",
    "\n",
    "\n",
    "# 3. 훈련\n",
    "model.fit(x_train, y_train)\n",
    "\n",
    "# 4. 평가예측\n",
    "x_test = [[0,0], [1,0], [0,1], [1,1]]\n",
    "y_predict = model.predict(x_test)\n",
    "\n",
    "print(x_test, \"의 예측결과 : \", y_predict)\n",
    "print(\"acc : \", accuracy_score([0,1,1,0], y_predict)) # evaluate 없는 대신 accuracy-score로 값을 판별"
   ]
  },
  {
   "cell_type": "code",
   "execution_count": null,
   "metadata": {},
   "outputs": [],
   "source": []
  }
 ],
 "metadata": {
  "kernelspec": {
   "display_name": "Python 3",
   "language": "python",
   "name": "python3"
  },
  "language_info": {
   "codemirror_mode": {
    "name": "ipython",
    "version": 3
   },
   "file_extension": ".py",
   "mimetype": "text/x-python",
   "name": "python",
   "nbconvert_exporter": "python",
   "pygments_lexer": "ipython3",
   "version": "3.7.3"
  }
 },
 "nbformat": 4,
 "nbformat_minor": 4
}
