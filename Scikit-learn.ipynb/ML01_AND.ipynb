{
 "cells": [
  {
   "cell_type": "code",
   "execution_count": 2,
   "metadata": {},
   "outputs": [
    {
     "name": "stdout",
     "output_type": "stream",
     "text": [
      "[[0, 0], [1, 0], [0, 1], [1, 1]] 의 예측결과 :  [0 0 0 1]\n",
      "acc :  1.0\n"
     ]
    }
   ],
   "source": [
    "from sklearn.svm import LinearSVC\n",
    "from sklearn.metrics import accuracy_score\n",
    "\n",
    "# 1. 데이터(AND)\n",
    "x_train = [[0,0], [1,0], [0,1], [1,1]]\n",
    "y_train = [0, 0, 0, 1]\n",
    "\n",
    "# 2. 모델링\n",
    "# 머신러닝은 단순하게 딱 선형으로 구성되어 있음(딥러닝은 줄줄이 소세지 층 넣었음)\n",
    "model = LinearSVC() # y=wx+b 형태 / 1차함수에 기본을 둔 회귀형 머신러닝 모델 \n",
    "\n",
    "# 3. 훈련\n",
    "model.fit(x_train, y_train)\n",
    "\n",
    "# 4. 평가예측\n",
    "x_test = [[0,0], [1,0], [0,1], [1,1]]\n",
    "y_predict = model.predict(x_test)\n",
    "\n",
    "print(x_test, \"의 예측결과 : \", y_predict)\n",
    "print(\"acc : \", accuracy_score([0,0,0,1], y_predict)) # evaluate 없는 대신 accuracy-score로 값을 판별"
   ]
  }
 ],
 "metadata": {
  "kernelspec": {
   "display_name": "Python 3",
   "language": "python",
   "name": "python3"
  },
  "language_info": {
   "codemirror_mode": {
    "name": "ipython",
    "version": 3
   },
   "file_extension": ".py",
   "mimetype": "text/x-python",
   "name": "python",
   "nbconvert_exporter": "python",
   "pygments_lexer": "ipython3",
   "version": "3.7.3"
  }
 },
 "nbformat": 4,
 "nbformat_minor": 4
}
