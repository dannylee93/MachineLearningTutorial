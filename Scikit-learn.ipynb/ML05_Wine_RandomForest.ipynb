{
 "cells": [
  {
   "cell_type": "code",
   "execution_count": 1,
   "metadata": {},
   "outputs": [],
   "source": [
    "# 랜덤포레스트 사용하면서 feature Importance 확인"
   ]
  },
  {
   "cell_type": "code",
   "execution_count": 11,
   "metadata": {},
   "outputs": [
    {
     "name": "stdout",
     "output_type": "stream",
     "text": [
      "(4898, 11)\n",
      "Score :  0.6591836734693878\n",
      "정답률 :  0.6591836734693878\n",
      "              precision    recall  f1-score   support\n",
      "\n",
      "           3       0.00      0.00      0.00         9\n",
      "           4       1.00      0.13      0.24        60\n",
      "           5       0.71      0.63      0.66       458\n",
      "           6       0.61      0.82      0.70       630\n",
      "           7       0.74      0.52      0.61       267\n",
      "           8       0.94      0.37      0.53        46\n",
      "\n",
      "    accuracy                           0.66      1470\n",
      "   macro avg       0.67      0.41      0.46      1470\n",
      "weighted avg       0.69      0.66      0.64      1470\n",
      "\n"
     ]
    },
    {
     "name": "stderr",
     "output_type": "stream",
     "text": [
      "C:\\Users\\student\\Anaconda3\\lib\\site-packages\\sklearn\\metrics\\_classification.py:1272: UndefinedMetricWarning: Precision and F-score are ill-defined and being set to 0.0 in labels with no predicted samples. Use `zero_division` parameter to control this behavior.\n",
      "  _warn_prf(average, modifier, msg_start, len(result))\n"
     ]
    }
   ],
   "source": [
    "import pandas as pd\n",
    "from sklearn.ensemble import RandomForestClassifier # 랜덤포레스트 모델 중 분류모델\n",
    "from sklearn.metrics import accuracy_score, classification_report\n",
    "\n",
    "# 데이터 불러오기\n",
    "wine_data = pd.read_csv('./csv/winequality-white.csv', sep=';', encoding='utf-8')\n",
    "\n",
    "# 데이터를 레이블과 데이터로 분리하기\n",
    "y = wine_data[\"quality\"]\n",
    "x = wine_data.drop('quality', axis=1)\n",
    "\n",
    "print(x.shape) #(4898, 11)\n",
    "\n",
    "from sklearn.model_selection import train_test_split\n",
    "\n",
    "x_train, x_test, y_train, y_test = train_test_split(x,y,\n",
    "                                                    test_size=0.3, \n",
    "                                                    random_state=0, \n",
    "                                                    shuffle = True)\n",
    "\n",
    "# 모델링(랜덤포레스트)\n",
    "model = RandomForestClassifier()\n",
    "\n",
    "# 훈련\n",
    "model.fit(x_train, y_train)\n",
    "\n",
    "# 평가예측\n",
    "score = model.score(x_test, y_test)\n",
    "print(\"Score : \",score)\n",
    "\n",
    "y_predict = model.predict(x_test)\n",
    "print(\"정답률 : \", accuracy_score(y_test, y_predict))\n",
    "\n",
    "# 리포트\n",
    "print(classification_report(y_test, y_predict))"
   ]
  },
  {
   "cell_type": "code",
   "execution_count": null,
   "metadata": {},
   "outputs": [],
   "source": []
  }
 ],
 "metadata": {
  "kernelspec": {
   "display_name": "Python 3",
   "language": "python",
   "name": "python3"
  },
  "language_info": {
   "codemirror_mode": {
    "name": "ipython",
    "version": 3
   },
   "file_extension": ".py",
   "mimetype": "text/x-python",
   "name": "python",
   "nbconvert_exporter": "python",
   "pygments_lexer": "ipython3",
   "version": "3.7.3"
  }
 },
 "nbformat": 4,
 "nbformat_minor": 4
}
